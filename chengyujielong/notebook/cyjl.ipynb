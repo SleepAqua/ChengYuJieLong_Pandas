{
 "cells": [
  {
   "cell_type": "code",
   "execution_count": 88,
   "metadata": {},
   "outputs": [
    {
     "data": {
      "text/plain": [
       "{'derivation': '语出《法华经·法师功德品》下至阿鼻地狱。”',\n",
       " 'example': '但也有少数意志薄弱的……逐步上当，终至堕入～。★《上饶集中营·炼狱杂记》',\n",
       " 'explanation': '阿鼻梵语的译音，意译为无间”，即痛苦无有间断之意。常用来比喻黑暗的社会和严酷的牢狱。又比喻无法摆脱的极其痛苦的境地。',\n",
       " 'pinyin': 'ā bí dì yù',\n",
       " 'word': '阿鼻地狱',\n",
       " 'abbreviation': 'abdy'}"
      ]
     },
     "execution_count": 88,
     "metadata": {},
     "output_type": "execute_result"
    }
   ],
   "source": [
    "import json\n",
    "import numpy as np\n",
    "import pandas as pd\n",
    "from pypinyin import pinyin\n",
    "\n",
    "def get_cy_dt(cy_path=r\"D:\\GitHub\\chinese-xinhua\\data\\idiom.json\"):\n",
    "    with open(cy_path, \"r\", encoding=\"utf-8\") as fp:\n",
    "        dt = json.load(fp)\n",
    "    return dt\n",
    "dt = get_cy_dt()\n",
    "dt[0]"
   ]
  },
  {
   "cell_type": "code",
   "execution_count": 143,
   "metadata": {},
   "outputs": [
    {
     "data": {
      "text/html": [
       "<div>\n",
       "<style scoped>\n",
       "    .dataframe tbody tr th:only-of-type {\n",
       "        vertical-align: middle;\n",
       "    }\n",
       "\n",
       "    .dataframe tbody tr th {\n",
       "        vertical-align: top;\n",
       "    }\n",
       "\n",
       "    .dataframe thead th {\n",
       "        text-align: right;\n",
       "    }\n",
       "</style>\n",
       "<table border=\"1\" class=\"dataframe\">\n",
       "  <thead>\n",
       "    <tr style=\"text-align: right;\">\n",
       "      <th></th>\n",
       "      <th>word</th>\n",
       "      <th>head</th>\n",
       "      <th>tail</th>\n",
       "    </tr>\n",
       "  </thead>\n",
       "  <tbody>\n",
       "    <tr>\n",
       "      <th>0</th>\n",
       "      <td>变色之言</td>\n",
       "      <td>biàn</td>\n",
       "      <td>yán</td>\n",
       "    </tr>\n",
       "    <tr>\n",
       "      <th>1</th>\n",
       "      <td>变名易姓</td>\n",
       "      <td>biàn</td>\n",
       "      <td>xìng</td>\n",
       "    </tr>\n",
       "    <tr>\n",
       "      <th>2</th>\n",
       "      <td>变脸变色</td>\n",
       "      <td>biàn</td>\n",
       "      <td>sè</td>\n",
       "    </tr>\n",
       "    <tr>\n",
       "      <th>3</th>\n",
       "      <td>变醨养瘠</td>\n",
       "      <td>biàn</td>\n",
       "      <td>jí</td>\n",
       "    </tr>\n",
       "    <tr>\n",
       "      <th>4</th>\n",
       "      <td>变幻无穷</td>\n",
       "      <td>biàn</td>\n",
       "      <td>qióng</td>\n",
       "    </tr>\n",
       "  </tbody>\n",
       "</table>\n",
       "</div>"
      ],
      "text/plain": [
       "   word  head   tail\n",
       "0  变色之言  biàn    yán\n",
       "1  变名易姓  biàn   xìng\n",
       "2  变脸变色  biàn     sè\n",
       "3  变醨养瘠  biàn     jí\n",
       "4  变幻无穷  biàn  qióng"
      ]
     },
     "execution_count": 143,
     "metadata": {},
     "output_type": "execute_result"
    }
   ],
   "source": [
    "def get_cy_df(cy_json):\n",
    "    df = pd.DataFrame(cy_json)\n",
    "    \n",
    "    df.loc[df[\"word\"]==\"鸡犬之声相闻，老死不相往来\", \"pinyin\"] = \"jī quǎn zhī shēng xiāng wén lǎo sǐ bù xiāng wǎng lái\"\n",
    "    df.loc[df[\"word\"]==\"各人自扫门前雪，莫管他家瓦上霜\", \"pinyin\"] = \"gè rén zì sǎo mén qián xuě mò guǎn tā jiā wǎ shàng shuāng\"\n",
    "    df.loc[df[\"word\"]==\"抓耳搔腮\", \"pinyin\"] = \"zhuā ěr sāo sāi\"\n",
    "    df.loc[df[\"word\"]==\"只许州官放火，不许百姓点灯\", \"pinyin\"] = \"zhǐ xǔ zhōu guān fàng huǒ，bù xǔ bǎi xìng diǎn dēng\"\n",
    "    \n",
    "    tmp_df = df[\"pinyin\"].str.split(n=-1, expand=True)\n",
    "    df[\"head\"] = tmp_df[0]\n",
    "    df[\"tail\"] = tmp_df[3]\n",
    "    \n",
    "    df = df[[\"word\", \"head\", \"tail\"]]\n",
    "    df = df.sort_values(\"head\").reset_index(drop=True)\n",
    "    \n",
    "    assert df[df[\"head\"].str.len()>6].empty\n",
    "    \n",
    "    return df\n",
    "\n",
    "df = get_cy_df(dt)\n",
    "df.head()"
   ]
  },
  {
   "cell_type": "code",
   "execution_count": 150,
   "metadata": {},
   "outputs": [
    {
     "data": {
      "text/plain": [
       "{'biàn': 0,\n",
       " 'biào': 48,\n",
       " 'bián': 49,\n",
       " 'bié': 51,\n",
       " 'biān': 96,\n",
       " 'biāo': 111,\n",
       " 'biǎn': 124,\n",
       " 'biǎo': 125,\n",
       " 'bu': 138,\n",
       " 'bà': 139,\n",
       " 'bài': 143,\n",
       " 'bàn': 170,\n",
       " 'bàng': 223,\n",
       " 'bào': 234,\n",
       " 'bá': 298,\n",
       " 'bái': 352,\n",
       " 'báng': 454,\n",
       " 'báo': 455,\n",
       " 'bèi': 457,\n",
       " 'bèn': 500,\n",
       " 'bì': 504,\n",
       " 'bìn': 647,\n",
       " 'bìng': 648,\n",
       " 'bí': 674,\n",
       " 'bò': 691,\n",
       " 'bó': 692,\n",
       " 'bù': 740,\n",
       " 'bā': 1355,\n",
       " 'bān': 1403,\n",
       " 'bāng': 1426,\n",
       " 'bāo': 1431,\n",
       " 'bēi': 1444,\n",
       " 'bēn': 1501,\n",
       " 'bēng': 1508,\n",
       " 'běi': 1511,\n",
       " 'běn': 1526,\n",
       " 'bī': 1538,\n",
       " 'bīan': 1542,\n",
       " 'bīn': 1543,\n",
       " 'bīng': 1554,\n",
       " 'bō': 1637,\n",
       " 'bū': 1679,\n",
       " 'bǎ': 1683,\n",
       " 'bǎi': 1692,\n",
       " 'bǎn': 1870,\n",
       " 'bǎng': 1876,\n",
       " 'bǎo': 1877,\n",
       " 'bǐ': 1907,\n",
       " 'bǐng': 1984,\n",
       " 'bǒ': 2009,\n",
       " 'bǔ': 2012,\n",
       " 'chuàn': 2030,\n",
       " 'chuàng': 2032,\n",
       " 'chuán': 2042,\n",
       " 'chuáng': 2066,\n",
       " 'chuí': 2074,\n",
       " 'chuò': 2123,\n",
       " 'chuāi': 2133,\n",
       " 'chuān': 2135,\n",
       " 'chuāng': 2148,\n",
       " 'chuī': 2152,\n",
       " 'chuō': 2193,\n",
       " 'chuǎi': 2199,\n",
       " 'chuǎn': 2201,\n",
       " 'chuǎng': 2205,\n",
       " 'chà': 2207,\n",
       " 'chàng': 2208,\n",
       " 'chá': 2221,\n",
       " 'chái': 2235,\n",
       " 'chán': 2252,\n",
       " 'cháng': 2267,\n",
       " 'cháo': 2349,\n",
       " 'chè': 2365,\n",
       " 'chèn': 2373,\n",
       " 'chèng': 2390,\n",
       " 'chén': 2394,\n",
       " 'chéng': 2461,\n",
       " 'chì': 2583,\n",
       " 'chí': 2603,\n",
       " 'chòu': 2660,\n",
       " 'chóng': 2666,\n",
       " 'chóu': 2740,\n",
       " 'chù': 2777,\n",
       " 'chú': 2812,\n",
       " 'chún': 2830,\n",
       " 'chā': 2858,\n",
       " 'chāi': 2871,\n",
       " 'chān': 2878,\n",
       " 'chāng': 2880,\n",
       " 'chāo': 2884,\n",
       " 'chē': 2923,\n",
       " 'chēn': 2942,\n",
       " 'chēng': 2946,\n",
       " 'chě': 2969,\n",
       " 'chěng': 2975,\n",
       " 'chī': 2993,\n",
       " 'chōng': 3024,\n",
       " 'chōu': 3047,\n",
       " 'chū': 3060,\n",
       " 'chūn': 3179,\n",
       " 'chǎn': 3229,\n",
       " 'chǎng': 3247,\n",
       " 'chǎo': 3248,\n",
       " 'chǐ': 3249,\n",
       " 'chǒng': 3312,\n",
       " 'chǒu': 3316,\n",
       " 'chǔ': 3321,\n",
       " 'chǔn': 3369,\n",
       " 'cuàn': 3370,\n",
       " 'cuán': 3374,\n",
       " 'cuì': 3379,\n",
       " 'cuò': 3385,\n",
       " 'cuān': 3398,\n",
       " 'cuī': 3400,\n",
       " 'cuō': 3419,\n",
       " 'cuǐ': 3430,\n",
       " 'cài': 3431,\n",
       " 'càn': 3432,\n",
       " 'cái': 3437,\n",
       " 'cán': 3508,\n",
       " 'cáng': 3537,\n",
       " 'cáo': 3555,\n",
       " 'cè': 3556,\n",
       " 'cén': 3567,\n",
       " 'céng': 3568,\n",
       " 'cì': 3580,\n",
       " 'cí': 3590,\n",
       " 'cóng': 3628,\n",
       " 'cù': 3666,\n",
       " 'cùn': 3673,\n",
       " 'cún': 3711,\n",
       " 'cā': 3721,\n",
       " 'cāi': 3725,\n",
       " 'cān': 3728,\n",
       " 'cāng': 3754,\n",
       " 'cāo': 3776,\n",
       " 'cēn': 3795,\n",
       " 'cōng': 3800,\n",
       " 'cū': 3809,\n",
       " 'cūn': 3822,\n",
       " 'cǎi': 3832,\n",
       " 'cǎn': 3846,\n",
       " 'cǎo': 3860,\n",
       " 'cǐ': 3888,\n",
       " 'dang': 3907,\n",
       " 'dao': 3908,\n",
       " 'ding': 3909,\n",
       " 'diu': 3910,\n",
       " 'diu1': 3914,\n",
       " 'diàn': 3915,\n",
       " 'diào': 3926,\n",
       " 'dié': 3951,\n",
       " 'diān': 3964,\n",
       " 'diāo': 3991,\n",
       " 'diē': 4041,\n",
       " 'diū': 4050,\n",
       " 'diǎn': 4057,\n",
       " 'dong': 4082,\n",
       " 'duan': 4083,\n",
       " 'duàn': 4084,\n",
       " 'duì': 4141,\n",
       " 'duò': 4158,\n",
       " 'duó': 4161,\n",
       " 'duān': 4169,\n",
       " 'duī': 4175,\n",
       " 'duō': 4181,\n",
       " 'duǎn': 4241,\n",
       " 'duǒ': 4254,\n",
       " 'dà': 4256,\n",
       " 'dài': 4452,\n",
       " 'dàn': 4502,\n",
       " 'dàng': 4537,\n",
       " 'dào': 4544,\n",
       " 'dá': 4628,\n",
       " 'dèng': 4641,\n",
       " 'dé': 4645,\n",
       " 'déng': 4719,\n",
       " 'dì': 4720,\n",
       " 'dìng': 4758,\n",
       " 'dí': 4763,\n",
       " 'dòng': 4780,\n",
       " 'dòu': 4824,\n",
       " 'dù': 4851,\n",
       " 'dùn': 4901,\n",
       " 'dú': 4946,\n",
       " 'dúu': 5010,\n",
       " 'dā': 5011,\n",
       " 'dāi': 5013,\n",
       " 'dān': 5018,\n",
       " 'dāng': 5068,\n",
       " 'dāo': 5104,\n",
       " 'dēng': 5121,\n",
       " 'děng': 5145,\n",
       " 'dī': 5154,\n",
       " 'dīng': 5183,\n",
       " 'dōng': 5189,\n",
       " 'dōu': 5370,\n",
       " 'dū': 5372,\n",
       " 'dūn': 5375,\n",
       " 'dǎ': 5380,\n",
       " 'dǎn': 5428,\n",
       " 'dǎng': 5454,\n",
       " 'dǎo': 5464,\n",
       " 'dǐ': 5509,\n",
       " 'dǐng': 5537,\n",
       " 'dǒng': 5571,\n",
       " 'dǒu': 5573,\n",
       " 'dǔ': 5594,\n",
       " 'feng': 5619,\n",
       " 'fu': 5620,\n",
       " 'fà': 5621,\n",
       " 'fàn': 5628,\n",
       " 'fàng': 5665,\n",
       " 'fá': 5710,\n",
       " 'fán': 5721,\n",
       " 'fáng': 5745,\n",
       " 'fèi': 5763,\n",
       " 'fèn': 5784,\n",
       " 'fèng': 5813,\n",
       " 'féi': 5885,\n",
       " 'fén': 5896,\n",
       " 'féng': 5919,\n",
       " 'fó': 5942,\n",
       " 'fù': 5953,\n",
       " 'fú': 6119,\n",
       " 'fā': 6218,\n",
       " 'fān': 6254,\n",
       " 'fāng': 6278,\n",
       " 'fē': 6308,\n",
       " 'fēi': 6309,\n",
       " 'fēn': 6393,\n",
       " 'fēng': 6479,\n",
       " 'fěi': 6740,\n",
       " 'fěn': 6753,\n",
       " 'fěng': 6769,\n",
       " 'fū': 6772,\n",
       " 'fǎ': 6797,\n",
       " 'fǎn': 6811,\n",
       " 'fǎng': 6875,\n",
       " 'fǔ': 6877,\n",
       " 'guà': 6933,\n",
       " 'guài': 6943,\n",
       " 'guàn': 6951,\n",
       " 'guì': 6968,\n",
       " 'guò': 7010,\n",
       " 'guó': 7039,\n",
       " 'guā': 7060,\n",
       " 'guāi': 7087,\n",
       " 'guān': 7090,\n",
       " 'guāng': 7152,\n",
       " 'guēn': 7176,\n",
       " 'guī': 7178,\n",
       " 'guǎ': 7235,\n",
       " 'guǎi': 7247,\n",
       " 'guǎn': 7248,\n",
       " 'guǎng': 7257,\n",
       " 'guǐ': 7270,\n",
       " 'guǒ': 7320,\n",
       " 'gài': 7330,\n",
       " 'gàn': 7340,\n",
       " 'gào': 7351,\n",
       " 'gè': 7359,\n",
       " 'gèn': 7395,\n",
       " 'gèng': 7401,\n",
       " 'gé': 7406,\n",
       " 'gòng': 7451,\n",
       " 'gòu': 7457,\n",
       " 'gù': 7460,\n",
       " 'gān': 7510,\n",
       " 'gāng': 7566,\n",
       " 'gāo': 7584,\n",
       " 'gē': 7732,\n",
       " 'gēn': 7757,\n",
       " 'gēng': 7780,\n",
       " 'gě': 7799,\n",
       " 'gěng': 7800,\n",
       " 'gōng': 7809,\n",
       " 'gōu': 7918,\n",
       " 'gū': 7936,\n",
       " 'gǎ': 7995,\n",
       " 'gǎi': 7996,\n",
       " 'gǎn': 8049,\n",
       " 'gǎo': 8082,\n",
       " 'gǒng': 8088,\n",
       " 'gǒu': 8095,\n",
       " 'gǔ': 8149,\n",
       " 'gǔn': 8219,\n",
       " 'huai': 8222,\n",
       " 'huo': 8223,\n",
       " 'huà': 8224,\n",
       " 'huài': 8298,\n",
       " 'huàn': 8302,\n",
       " 'huá': 8326,\n",
       " 'huái': 8342,\n",
       " 'huán': 8371,\n",
       " 'huáng': 8389,\n",
       " 'huì': 8462,\n",
       " 'huí': 8505,\n",
       " 'huò': 8536,\n",
       " 'huó': 8591,\n",
       " 'huā': 8602,\n",
       " 'huān': 8646,\n",
       " 'huāng': 8660,\n",
       " 'huī': 8675,\n",
       " 'huō': 8716,\n",
       " 'huǎn': 8717,\n",
       " 'huǎng': 8722,\n",
       " 'huǐ': 8728,\n",
       " 'huǒ': 8755,\n",
       " 'hài': 8785,\n",
       " 'hàn': 8798,\n",
       " 'hàng': 8833,\n",
       " 'hào': 8835,\n",
       " 'hán': 8871,\n",
       " 'háng': 8950,\n",
       " 'háo': 8955,\n",
       " 'hè': 8992,\n",
       " 'hèn': 9028,\n",
       " 'hèng': 9035,\n",
       " 'hé': 9048,\n",
       " 'héng': 9143,\n",
       " 'hòu': 9203,\n",
       " 'hóng': 9243,\n",
       " 'hóu': 9325,\n",
       " 'hù': 9331,\n",
       " 'hùn': 9352,\n",
       " 'hú': 9366,\n",
       " 'hún': 9448,\n",
       " 'hāi': 9508,\n",
       " 'hān': 9509,\n",
       " 'hē': 9517,\n",
       " 'hēi': 9523,\n",
       " 'hēng': 9541,\n",
       " 'hěn': 9543,\n",
       " 'hōng': 9544,\n",
       " 'hū': 9557,\n",
       " 'hūn': 9581,\n",
       " 'hǎi': 9600,\n",
       " 'hǎn': 9641,\n",
       " 'hǎo': 9644,\n",
       " 'hǔ': 9675,\n",
       " 'ji': 9712,\n",
       " 'jiao': 9713,\n",
       " 'jing': 9714,\n",
       " 'jià': 9717,\n",
       " 'jiàn': 9741,\n",
       " 'jiàng': 9858,\n",
       " 'jiào': 9882,\n",
       " 'jiá': 9900,\n",
       " 'jiáo': 9911,\n",
       " 'jiè': 9915,\n",
       " 'jié': 9945,\n",
       " 'jiù': 10012,\n",
       " 'jiā': 10074,\n",
       " 'jiān': 10161,\n",
       " 'jiāng': 10251,\n",
       " 'jiāo': 10312,\n",
       " 'jiē': 10377,\n",
       " 'jiě': 10405,\n",
       " 'jiū': 10435,\n",
       " 'jiǎ': 10446,\n",
       " 'jiǎn': 10471,\n",
       " 'jiǎng': 10510,\n",
       " 'jiǎo': 10516,\n",
       " 'jiǒng': 10562,\n",
       " 'jiǔ': 10567,\n",
       " 'jiǔì': 10664,\n",
       " 'juàn': 10665,\n",
       " 'juè': 10677,\n",
       " 'jué': 10678,\n",
       " 'juān': 10735,\n",
       " 'juē': 10757,\n",
       " 'juǎn': 10759,\n",
       " 'jì': 10763,\n",
       " 'jìn': 10885,\n",
       " 'jìng': 11009,\n",
       " 'jí': 11059,\n",
       " 'jíe': 11219,\n",
       " 'jù': 11220,\n",
       " 'jùn': 11255,\n",
       " 'jú': 11261,\n",
       " 'jī': 11281,\n",
       " 'jīn': 11477,\n",
       " 'jīng': 11655,\n",
       " 'jū': 11804,\n",
       " 'jūn': 11842,\n",
       " 'jǐ': 11860,\n",
       " 'jǐn': 11875,\n",
       " 'jǐng': 11924,\n",
       " 'jǔ': 11952,\n",
       " 'kang': 12002,\n",
       " 'kuà': 12003,\n",
       " 'kuài': 12008,\n",
       " 'kuàng': 12023,\n",
       " 'kuáng': 12045,\n",
       " 'kuì': 12064,\n",
       " 'kuí': 12070,\n",
       " 'kuò': 12078,\n",
       " 'kuā': 12082,\n",
       " 'kuān': 12091,\n",
       " 'kuāng': 12104,\n",
       " 'kuī': 12116,\n",
       " 'kuǎn': 12123,\n",
       " 'kuǐ': 12128,\n",
       " 'kàn': 12129,\n",
       " 'kàng': 12144,\n",
       " 'kào': 12150,\n",
       " 'káng': 12153,\n",
       " 'kè': 12154,\n",
       " 'ké': 12200,\n",
       " 'kòng': 12202,\n",
       " 'kòu': 12203,\n",
       " 'kùn': 12215,\n",
       " 'kāi': 12221,\n",
       " 'kān': 12273,\n",
       " 'kāng': 12277,\n",
       " 'kāo': 12292,\n",
       " 'kē': 12294,\n",
       " 'kēng': 12305,\n",
       " 'kě': 12314,\n",
       " 'kěn': 12332,\n",
       " 'kōng': 12334,\n",
       " 'kōu': 12354,\n",
       " 'kū': 12356,\n",
       " 'kūn': 12399,\n",
       " 'kǎi': 12403,\n",
       " 'kǎn': 12407,\n",
       " 'kǎo': 12415,\n",
       " 'kǒng': 12416,\n",
       " 'kǒu': 12427,\n",
       " 'kǔ': 12483,\n",
       " 'kǔn': 12504,\n",
       " 'le': 12506,\n",
       " 'liàn': 12508,\n",
       " 'liàng': 12517,\n",
       " 'liào': 12536,\n",
       " 'lián': 12541,\n",
       " 'liáng': 12629,\n",
       " 'liáo': 12655,\n",
       " 'liè': 12678,\n",
       " 'liù': 12704,\n",
       " 'liú': 12731,\n",
       " 'liū': 12792,\n",
       " 'liǎn': 12795,\n",
       " 'liǎng': 12814,\n",
       " 'liǎo': 12848,\n",
       " 'liǔ': 12859,\n",
       " 'long': 12899,\n",
       " 'lou': 12900,\n",
       " 'luo': 12901,\n",
       " 'luàn': 12902,\n",
       " 'luán': 12917,\n",
       " 'luò': 12948,\n",
       " 'luó': 12981,\n",
       " 'luō': 12989,\n",
       " 'luǎn': 12991,\n",
       " 'luǒ': 12993,\n",
       " 'là': 12996,\n",
       " 'lài': 12997,\n",
       " 'làn': 12999,\n",
       " 'làng': 13010,\n",
       " 'lái': 13023,\n",
       " 'lán': 13049,\n",
       " 'láng': 13067,\n",
       " 'láo': 13117,\n",
       " 'lè': 13137,\n",
       " 'lèi': 13184,\n",
       " 'lèng': 13193,\n",
       " 'léi': 13196,\n",
       " 'léng': 13213,\n",
       " 'lì': 13216,\n",
       " 'lìn': 13341,\n",
       " 'lìng': 13342,\n",
       " 'lí': 13367,\n",
       " 'lín': 13411,\n",
       " 'líng': 13479,\n",
       " 'lòu': 13513,\n",
       " 'lóng': 13543,\n",
       " 'lóu': 13674,\n",
       " 'lù': 13678,\n",
       " 'lùn': 13735,\n",
       " 'lú': 13756,\n",
       " 'lún': 13761,\n",
       " 'lüè': 13767,\n",
       " 'lüě': 13782,\n",
       " 'lā': 13783,\n",
       " 'lāo': 13793,\n",
       " 'lěi': 13794,\n",
       " 'lěng': 13817,\n",
       " 'lǎn': 13836,\n",
       " 'lǎng': 13842,\n",
       " 'lǎo': 13846,\n",
       " 'lǐ': 13893,\n",
       " 'lǐn': 13941,\n",
       " 'lǐng': 13944,\n",
       " 'lǒng': 13945,\n",
       " 'lǔ': 13947,\n",
       " 'lǘ': 13964,\n",
       " 'lǚ': 13974,\n",
       " 'lǜ': 14001,\n",
       " 'ming': 14017,\n",
       " 'miàn': 14018,\n",
       " 'miào': 14074,\n",
       " 'mián': 14090,\n",
       " 'miáo': 14105,\n",
       " 'miè': 14110,\n",
       " 'miù': 14117,\n",
       " 'miǎn': 14125,\n",
       " 'miǎo': 14136,\n",
       " 'mà': 14151,\n",
       " 'mài': 14154,\n",
       " 'màn': 14195,\n",
       " 'mào': 14231,\n",
       " 'má': 14247,\n",
       " 'mái': 14254,\n",
       " 'mán': 14258,\n",
       " 'máng': 14276,\n",
       " 'máo': 14309,\n",
       " 'mèi': 14332,\n",
       " 'mèn': 14338,\n",
       " 'mèng': 14341,\n",
       " 'méi': 14354,\n",
       " 'mén': 14402,\n",
       " 'méng': 14432,\n",
       " 'mì': 14438,\n",
       " 'mìng': 14448,\n",
       " 'mí': 14459,\n",
       " 'mín': 14505,\n",
       " 'míng': 14535,\n",
       " 'mò': 14698,\n",
       " 'mó': 14755,\n",
       " 'móu': 14800,\n",
       " 'mù': 14816,\n",
       " 'māo': 14959,\n",
       " 'mēng': 14964,\n",
       " 'měi': 14965,\n",
       " 'měng': 14980,\n",
       " 'mō': 14987,\n",
       " 'mǎ': 14991,\n",
       " 'mǎi': 15049,\n",
       " 'mǎn': 15072,\n",
       " 'mǎng': 15106,\n",
       " 'mǐ': 15107,\n",
       " 'mǐn': 15120,\n",
       " 'mǐng': 15124,\n",
       " 'mǒ': 15126,\n",
       " 'mǔ': 15129,\n",
       " 'nai': 15133,\n",
       " 'nan': 15134,\n",
       " 'niàn': 15135,\n",
       " 'niào': 15138,\n",
       " 'nián': 15139,\n",
       " 'niè': 15169,\n",
       " 'niú': 15197,\n",
       " 'niān': 15233,\n",
       " 'niē': 15247,\n",
       " 'niǎn': 15251,\n",
       " 'niǎo': 15254,\n",
       " 'niǔ': 15287,\n",
       " 'nu': 15295,\n",
       " 'nuò': 15296,\n",
       " 'nuǎn': 15300,\n",
       " 'nà': 15301,\n",
       " 'nài': 15309,\n",
       " 'nàn': 15311,\n",
       " 'ná': 15312,\n",
       " 'nán': 15333,\n",
       " 'náng': 15401,\n",
       " 'náo': 15411,\n",
       " 'nè': 15416,\n",
       " 'nèi': 15418,\n",
       " 'néng': 15431,\n",
       " 'nì': 15451,\n",
       " 'nìng': 15479,\n",
       " 'ní': 15489,\n",
       " 'níng': 15504,\n",
       " 'nòng': 15508,\n",
       " 'nóng': 15533,\n",
       " 'nù': 15544,\n",
       " 'nú': 15557,\n",
       " 'nüè': 15566,\n",
       " 'nǎi': 15567,\n",
       " 'nǎn': 15570,\n",
       " 'nǎo': 15571,\n",
       " 'nǐ': 15574,\n",
       " 'nǔ': 15582,\n",
       " 'nǚ': 15585,\n",
       " 'pan': 15598,\n",
       " 'piàn': 15599,\n",
       " 'pián': 15623,\n",
       " 'piáo': 15641,\n",
       " 'piān': 15642,\n",
       " 'piāo': 15653,\n",
       " 'piě': 15676,\n",
       " 'pà': 15677,\n",
       " 'pàn': 15682,\n",
       " 'pào': 15689,\n",
       " 'pá': 15693,\n",
       " 'pái': 15701,\n",
       " 'pán': 15713,\n",
       " 'páng': 15729,\n",
       " 'páo': 15763,\n",
       " 'pèi': 15771,\n",
       " 'pèng': 15776,\n",
       " 'péi': 15777,\n",
       " 'pén': 15779,\n",
       " 'péng': 15780,\n",
       " 'pì': 15803,\n",
       " 'pìn': 15806,\n",
       " 'pí': 15812,\n",
       " 'pín': 15829,\n",
       " 'píng': 15849,\n",
       " 'pò': 15904,\n",
       " 'pó': 15976,\n",
       " 'póu': 15978,\n",
       " 'pù': 15979,\n",
       " 'pú': 15987,\n",
       " 'pāi': 15997,\n",
       " 'pān': 16003,\n",
       " 'pāo': 16022,\n",
       " 'pēn': 16026,\n",
       " 'pēng': 16031,\n",
       " 'pěng': 16038,\n",
       " 'pī': 16042,\n",
       " 'pīn': 16108,\n",
       " 'pīng': 16109,\n",
       " 'pō': 16111,\n",
       " 'pōu': 16116,\n",
       " 'pū': 16130,\n",
       " 'pǎo': 16141,\n",
       " 'pǐ': 16145,\n",
       " 'pǐn': 16167,\n",
       " 'pǒu': 16176,\n",
       " 'pǔ': 16177,\n",
       " 'qing': 16192,\n",
       " 'qià': 16193,\n",
       " 'qiàn': 16197,\n",
       " 'qiào': 16200,\n",
       " 'qián': 16203,\n",
       " 'qiáng': 16297,\n",
       " 'qiáo': 16327,\n",
       " 'qiè': 16345,\n",
       " 'qióng': 16370,\n",
       " 'qiú': 16426,\n",
       " 'qiā': 16460,\n",
       " 'qiān': 16462,\n",
       " 'qiāng': 16677,\n",
       " 'qiāo': 16689,\n",
       " 'qiē': 16716,\n",
       " 'qiě': 16725,\n",
       " 'qiū': 16727,\n",
       " 'qiǎn': 16758,\n",
       " 'qiǎng': 16771,\n",
       " 'qiǎo': 16788,\n",
       " 'quàn': 16810,\n",
       " 'quán': 16814,\n",
       " 'què': 16857,\n",
       " 'quān': 16886,\n",
       " 'quē': 16887,\n",
       " 'quǎn': 16893,\n",
       " 'qì': 16911,\n",
       " 'qìn': 17022,\n",
       " 'qìng': 17027,\n",
       " 'qí': 17033,\n",
       " 'qín': 17139,\n",
       " 'qíng': 17168,\n",
       " 'qù': 17218,\n",
       " 'qú': 17239,\n",
       " 'qún': 17241,\n",
       " 'qī': 17261,\n",
       " 'qīn': 17384,\n",
       " 'qīng': 17403,\n",
       " 'qū': 17604,\n",
       " 'qǐ': 17639,\n",
       " 'qǐn': 17671,\n",
       " 'qǐng': 17684,\n",
       " 'qǔ': 17688,\n",
       " 'ruì': 17718,\n",
       " 'ruí': 17724,\n",
       " 'ruò': 17725,\n",
       " 'ruǎn': 17756,\n",
       " 'ràng': 17766,\n",
       " 'rán': 17771,\n",
       " 'ráng': 17779,\n",
       " 'ráo': 17780,\n",
       " 'rè': 17782,\n",
       " 'rèn': 17794,\n",
       " 'rén': 17824,\n",
       " 'réng': 18014,\n",
       " 'rì': 18015,\n",
       " 'ròu': 18148,\n",
       " 'róng': 18161,\n",
       " 'róu': 18188,\n",
       " 'rù': 18213,\n",
       " 'rùi': 18246,\n",
       " 'rùn': 18247,\n",
       " 'rú': 18248,\n",
       " 'rě': 18375,\n",
       " 'rěn': 18387,\n",
       " 'rǎn': 18406,\n",
       " 'rǎng': 18417,\n",
       " 'rǎo': 18426,\n",
       " 'rǒng': 18428,\n",
       " 'rǔ': 18429,\n",
       " 'sh': 18440,\n",
       " 'sha': 18442,\n",
       " 'shan': 18443,\n",
       " 'sheng': 18444,\n",
       " 'shi': 18446,\n",
       " 'shu': 18447,\n",
       " 'shui': 18448,\n",
       " 'shuài': 18449,\n",
       " 'shuì': 18461,\n",
       " 'shuí': 18463,\n",
       " 'shuò': 18464,\n",
       " 'shuāi': 18479,\n",
       " 'shuān': 18480,\n",
       " 'shuāng': 18481,\n",
       " 'shuō': 18499,\n",
       " 'shuǎ': 18532,\n",
       " 'shuǎng': 18534,\n",
       " 'shuǐ': 18538,\n",
       " 'shà': 18618,\n",
       " 'shài': 18622,\n",
       " 'shàn': 18623,\n",
       " 'shàng': 18655,\n",
       " 'shào': 18698,\n",
       " 'sháo': 18704,\n",
       " 'shè': 18707,\n",
       " 'shèn': 18726,\n",
       " 'shèng': 18737,\n",
       " 'shé': 18766,\n",
       " 'shén': 18786,\n",
       " 'shéng': 18910,\n",
       " 'shì': 18919,\n",
       " 'shí': 19140,\n",
       " 'shòu': 19365,\n",
       " 'shù': 19392,\n",
       " 'shùn': 19466,\n",
       " 'shú': 19503,\n",
       " 'shā': 19511,\n",
       " 'shāi': 19549,\n",
       " 'shān': 19550,\n",
       " 'shāng': 19631,\n",
       " 'shāo': 19645,\n",
       " 'shēn': 19652,\n",
       " 'shēng': 19794,\n",
       " 'shě': 19876,\n",
       " 'shěn': 19897,\n",
       " 'shěng': 19904,\n",
       " 'shī': 19906,\n",
       " 'shōu': 19974,\n",
       " 'shū': 19988,\n",
       " 'shǎ': 20040,\n",
       " 'shǎn': 20041,\n",
       " 'shǎng': 20044,\n",
       " 'shǎo': 20067,\n",
       " 'shǐ': 20078,\n",
       " 'shǒu': 20131,\n",
       " 'shǔ': 20200,\n",
       " 'shǔn': 20251,\n",
       " 'si': 20258,\n",
       " 'suàn': 20259,\n",
       " 'suì': 20260,\n",
       " 'suí': 20294,\n",
       " 'suān': 20351,\n",
       " 'suī': 20354,\n",
       " 'suō': 20357,\n",
       " 'suǒ': 20365,\n",
       " 'sà': 20383,\n",
       " 'sài': 20384,\n",
       " 'sàn': 20389,\n",
       " 'sàng': 20395,\n",
       " 'sè': 20409,\n",
       " 'sì': 20424,\n",
       " 'sòng': 20509,\n",
       " 'sù': 20530,\n",
       " 'sú': 20564,\n",
       " 'sā': 20568,\n",
       " 'sāi': 20577,\n",
       " 'sān': 20583,\n",
       " 'sāng': 20772,\n",
       " 'sāo': 20797,\n",
       " 'sēn': 20811,\n",
       " 'sēng': 20813,\n",
       " 'sī': 20814,\n",
       " 'sōng': 20841,\n",
       " 'sōu': 20854,\n",
       " 'sū': 20863,\n",
       " 'sūn': 20864,\n",
       " 'sǎ': 20866,\n",
       " 'sǎn': 20870,\n",
       " 'sǎo': 20871,\n",
       " 'sǐ': 20884,\n",
       " 'sǒng': 20942,\n",
       " 'sǒu': 20949,\n",
       " 'sǔn': 20950,\n",
       " 'tai': 20963,\n",
       " 'tian': 20965,\n",
       " 'tiào': 20966,\n",
       " 'tián': 20972,\n",
       " 'tiáo': 20996,\n",
       " 'tiān': 21027,\n",
       " 'tiāo': 21214,\n",
       " 'tiě': 21227,\n",
       " 'tiǎn': 21266,\n",
       " 'tiǎo': 21268,\n",
       " 'tu': 21272,\n",
       " 'tui': 21273,\n",
       " 'tuàn': 21274,\n",
       " 'tuán': 21275,\n",
       " 'tuì': 21283,\n",
       " 'tuí': 21294,\n",
       " 'tuò': 21299,\n",
       " 'tuó': 21309,\n",
       " 'tuī': 21311,\n",
       " 'tuō': 21343,\n",
       " 'tuǒ': 21375,\n",
       " 'tà': 21376,\n",
       " 'tài': 21382,\n",
       " 'tàn': 21407,\n",
       " 'tàpò': 21424,\n",
       " 'tái': 21425,\n",
       " 'tán': 21427,\n",
       " 'táng': 21469,\n",
       " 'táo': 21491,\n",
       " 'tè': 21526,\n",
       " 'téng': 21528,\n",
       " 'tì': 21535,\n",
       " 'tí': 21563,\n",
       " 'tíng': 21580,\n",
       " 'tòng': 21589,\n",
       " 'tòu': 21613,\n",
       " 'tóng': 21614,\n",
       " 'tóu': 21737,\n",
       " 'tù': 21814,\n",
       " 'tú': 21826,\n",
       " 'tún': 21860,\n",
       " 'tā': 21868,\n",
       " 'tān': 21874,\n",
       " 'tāng': 21915,\n",
       " 'tāo': 21919,\n",
       " 'tī': 21953,\n",
       " 'tīng': 21965,\n",
       " 'tōng': 21974,\n",
       " 'tōu': 22037,\n",
       " 'tū': 22056,\n",
       " 'tūn': 22059,\n",
       " 'tǎ': 22076,\n",
       " 'tǎn': 22078,\n",
       " 'tǎng': 22087,\n",
       " 'tǎo': 22089,\n",
       " 'tǐ': 22094,\n",
       " 'tǐng': 22103,\n",
       " 'tǒng': 22109,\n",
       " 'tǔ': 22110,\n",
       " 'wo': 22140,\n",
       " 'wu': 22141,\n",
       " 'wài': 22143,\n",
       " 'wàn': 22159,\n",
       " 'wàng': 22243,\n",
       " 'wán': 22320,\n",
       " 'wáng': 22350,\n",
       " 'wèi': 22384,\n",
       " 'wèn': 22444,\n",
       " 'wèng': 22465,\n",
       " 'wéi': 22474,\n",
       " 'wén': 22557,\n",
       " 'wò': 22665,\n",
       " 'wù': 22691,\n",
       " 'wú': 22749,\n",
       " 'wā': 23077,\n",
       " 'wāi': 23082,\n",
       " 'wān': 23088,\n",
       " 'wāng': 23095,\n",
       " 'wēi': 23102,\n",
       " 'wēn': 23153,\n",
       " 'wěi': 23168,\n",
       " 'wěn': 23189,\n",
       " 'wō': 23193,\n",
       " 'wū': 23200,\n",
       " 'wǎ': 23237,\n",
       " 'wǎn': 23248,\n",
       " 'wǎng': 23256,\n",
       " 'wǒ': 23290,\n",
       " 'wǔ': 23297,\n",
       " 'xiang': 23398,\n",
       " 'xià': 23399,\n",
       " 'xiàn': 23441,\n",
       " 'xiàng': 23453,\n",
       " 'xiào': 23493,\n",
       " 'xiá': 23520,\n",
       " 'xián': 23544,\n",
       " 'xiáng': 23609,\n",
       " 'xiáo': 23616,\n",
       " 'xiè': 23618,\n",
       " 'xié': 23632,\n",
       " 'xióng': 23670,\n",
       " 'xiù': 23697,\n",
       " 'xiā': 23712,\n",
       " 'xiān': 23717,\n",
       " 'xiāng': 23784,\n",
       " 'xiāo': 23855,\n",
       " 'xiē': 23909,\n",
       " 'xiōng': 23910,\n",
       " 'xiū': 23947,\n",
       " 'xiǎn': 23975,\n",
       " 'xiǎng': 23988,\n",
       " 'xiǎo': 24001,\n",
       " 'xiǔ': 24049,\n",
       " 'xuàn': 24068,\n",
       " 'xuá': 24078,\n",
       " 'xuán': 24080,\n",
       " 'xuè': 24133,\n",
       " 'xué': 24158,\n",
       " 'xuān': 24180,\n",
       " 'xuē': 24200,\n",
       " 'xuě': 24210,\n",
       " 'xuǎn': 24234,\n",
       " 'xì': 24244,\n",
       " 'xìn': 24261,\n",
       " 'xìng': 24284,\n",
       " 'xí': 24304,\n",
       " 'xíng': 24326,\n",
       " 'xù': 24413,\n",
       " 'xùn': 24426,\n",
       " 'xú': 24438,\n",
       " 'xún': 24439,\n",
       " 'xī': 24486,\n",
       " 'xīn': 24581,\n",
       " 'xīng': 24802,\n",
       " 'xū': 24853,\n",
       " 'xūn': 24885,\n",
       " 'xǐ': 24892,\n",
       " 'xǐn': 24935,\n",
       " 'xǐng': 24936,\n",
       " 'xǔ': 24938,\n",
       " 'yan': 24941,\n",
       " 'yin': 24942,\n",
       " 'yu': 24944,\n",
       " 'yuàn': 24946,\n",
       " 'yuán': 24955,\n",
       " 'yuè': 25014,\n",
       " 'yuān': 25073,\n",
       " 'yuǎn': 25101,\n",
       " 'yà': 25126,\n",
       " 'yàn': 25129,\n",
       " 'yàng': 25201,\n",
       " 'yào': 25203,\n",
       " 'yá': 25217,\n",
       " 'yán': 25226,\n",
       " 'yáng': 25402,\n",
       " 'yáo': 25460,\n",
       " 'yè': 25506,\n",
       " 'yé': 25533,\n",
       " 'yì': 25535,\n",
       " 'yìn': 25706,\n",
       " 'yìng': 25710,\n",
       " 'yí': 25735,\n",
       " 'yín': 25911,\n",
       " 'yíng': 25941,\n",
       " 'yòng': 25994,\n",
       " 'yòu': 26013,\n",
       " 'yóu': 26033,\n",
       " 'yù': 26097,\n",
       " 'yùn': 26221,\n",
       " 'yú': 26259,\n",
       " 'yún': 26410,\n",
       " 'yā': 26504,\n",
       " 'yān': 26521,\n",
       " 'yāng': 26554,\n",
       " 'yāo': 26557,\n",
       " 'yě': 26576,\n",
       " 'yī': 26592,\n",
       " 'yīn': 27339,\n",
       " 'yīng': 27394,\n",
       " 'yōng': 27450,\n",
       " 'yōu': 27480,\n",
       " 'yū': 27522,\n",
       " 'yūn': 27532,\n",
       " 'yǎ': 27534,\n",
       " 'yǎn': 27547,\n",
       " 'yǎng': 27618,\n",
       " 'yǎo': 27675,\n",
       " 'yǐ': 27702,\n",
       " 'yǐn': 27968,\n",
       " 'yǐng': 28072,\n",
       " 'yǒng': 28086,\n",
       " 'yǒu': 28109,\n",
       " 'yǔ': 28249,\n",
       " 'yǔn': 28349,\n",
       " 'zeng': 28356,\n",
       " 'zhe': 28357,\n",
       " 'zhi': 28358,\n",
       " 'zhuài': 28359,\n",
       " 'zhuàn': 28364,\n",
       " 'zhuàng': 28366,\n",
       " 'zhuì': 28378,\n",
       " 'zhuó': 28382,\n",
       " 'zhuā': 28418,\n",
       " ...}"
      ]
     },
     "execution_count": 150,
     "metadata": {},
     "output_type": "execute_result"
    }
   ],
   "source": [
    "def get_heads_idx(cy_df):\n",
    "    cy_df = cy_df.reset_index()\n",
    "    cy_df = cy_df.groupby(\"head\").agg({\"index\": \"first\"})\n",
    "    return cy_df[\"index\"].to_dict()\n",
    "heads_idx = get_heads_idx(df)\n",
    "heads_idx"
   ]
  },
  {
   "cell_type": "code",
   "execution_count": 212,
   "metadata": {},
   "outputs": [
    {
     "name": "stdout",
     "output_type": "stream",
     "text": [
      "dāo\n",
      "GET 17 results:\n",
      "['刀耕火耘', '刀耕火种', '刀光剑影', '刀光血影', '刀过竹解', '刀锯鼎镬', '刀锯斧钺', '刀枪剑戟', '刀头剑首', '刀山火海', '刀山剑树', '刀头舔蜜', '刀头燕尾', '刀下留人', '刀耕火耨', '刀枪入库', '刀俎余生']\n"
     ]
    }
   ],
   "source": [
    "# def get_full(word):\n",
    "#     last_pinyin = pinyin(word)[-1][0]\n",
    "#     print(last_pinyin)\n",
    "#     full_list = [w[\"word\"] for w in dt if w[\"pinyin\"].split(\" \")[0] == last_pinyin]\n",
    "#     return full_list\n",
    "# print(get_full(\"笑里藏刀\"))\n",
    "\n",
    "def get_full(word, verbose=False):\n",
    "    last_pinyin = pinyin(word)[-1][0]\n",
    "    if verbose:\n",
    "        print(last_pinyin)\n",
    "    sub_df = df.iloc[heads_idx[last_pinyin]:, :]\n",
    "    sub_df = sub_df[sub_df[\"head\"] == last_pinyin]\n",
    "    if verbose:\n",
    "        print(f\"GET {sub_df.shape[0]} results:\")\n",
    "    return sub_df[\"word\"].tolist()\n",
    "print(get_full(\"笑里藏刀\", verbose=True))"
   ]
  },
  {
   "cell_type": "code",
   "execution_count": 213,
   "metadata": {},
   "outputs": [
    {
     "name": "stdout",
     "output_type": "stream",
     "text": [
      "hǎi\n",
      "海角天隅\n"
     ]
    }
   ],
   "source": [
    "def get_one(word):\n",
    "    last_pinyin = pinyin(word)[-1][0]\n",
    "    print(last_pinyin)\n",
    "    sub_df = df.iloc[heads_idx[last_pinyin]:heads_idx[last_pinyin]+1, 0]\n",
    "    return sub_df.to_string(header=False,index=False).strip()\n",
    "print(get_one(\"刀山火海\"))"
   ]
  },
  {
   "cell_type": "code",
   "execution_count": 223,
   "metadata": {},
   "outputs": [
    {
     "data": {
      "application/javascript": [
       "\n",
       "        if (window._pyforest_update_imports_cell) { window._pyforest_update_imports_cell('import numpy as np'); }\n",
       "    "
      ],
      "text/plain": [
       "<IPython.core.display.Javascript object>"
      ]
     },
     "metadata": {},
     "output_type": "display_data"
    },
    {
     "data": {
      "application/javascript": [
       "\n",
       "        if (window._pyforest_update_imports_cell) { window._pyforest_update_imports_cell('import numpy as np'); }\n",
       "    "
      ],
      "text/plain": [
       "<IPython.core.display.Javascript object>"
      ]
     },
     "metadata": {},
     "output_type": "display_data"
    },
    {
     "name": "stdout",
     "output_type": "stream",
     "text": [
      "刀头舔蜜\n"
     ]
    }
   ],
   "source": [
    "def get_random_one(word):\n",
    "    sub_df = get_full(word)\n",
    "    return sub_df[np.random.randint(0, len(sub_df), dtype=np.int16)]\n",
    "print(get_random_one(\"笑里藏刀\"))"
   ]
  },
  {
   "cell_type": "code",
   "execution_count": 227,
   "metadata": {},
   "outputs": [
    {
     "data": {
      "application/javascript": [
       "\n",
       "        if (window._pyforest_update_imports_cell) { window._pyforest_update_imports_cell('import numpy as np'); }\n",
       "    "
      ],
      "text/plain": [
       "<IPython.core.display.Javascript object>"
      ]
     },
     "metadata": {},
     "output_type": "display_data"
    },
    {
     "data": {
      "application/javascript": [
       "\n",
       "        if (window._pyforest_update_imports_cell) { window._pyforest_update_imports_cell('import numpy as np'); }\n",
       "    "
      ],
      "text/plain": [
       "<IPython.core.display.Javascript object>"
      ]
     },
     "metadata": {},
     "output_type": "display_data"
    },
    {
     "data": {
      "text/plain": [
       "3"
      ]
     },
     "execution_count": 227,
     "metadata": {},
     "output_type": "execute_result"
    }
   ],
   "source": [
    "np.random.randint(0, 5, dtype=np.int16)"
   ]
  },
  {
   "cell_type": "code",
   "execution_count": 234,
   "metadata": {},
   "outputs": [
    {
     "data": {
      "application/javascript": [
       "\n",
       "        if (window._pyforest_update_imports_cell) { window._pyforest_update_imports_cell('import numpy as np'); }\n",
       "    "
      ],
      "text/plain": [
       "<IPython.core.display.Javascript object>"
      ]
     },
     "metadata": {},
     "output_type": "display_data"
    },
    {
     "data": {
      "application/javascript": [
       "\n",
       "        if (window._pyforest_update_imports_cell) { window._pyforest_update_imports_cell('import numpy as np'); }\n",
       "    "
      ],
      "text/plain": [
       "<IPython.core.display.Javascript object>"
      ]
     },
     "metadata": {},
     "output_type": "display_data"
    },
    {
     "name": "stdout",
     "output_type": "stream",
     "text": [
      "[ADDED]: 进贤任能\n"
     ]
    },
    {
     "data": {
      "application/javascript": [
       "\n",
       "        if (window._pyforest_update_imports_cell) { window._pyforest_update_imports_cell('import numpy as np'); }\n",
       "    "
      ],
      "text/plain": [
       "<IPython.core.display.Javascript object>"
      ]
     },
     "metadata": {},
     "output_type": "display_data"
    },
    {
     "data": {
      "application/javascript": [
       "\n",
       "        if (window._pyforest_update_imports_cell) { window._pyforest_update_imports_cell('import numpy as np'); }\n",
       "    "
      ],
      "text/plain": [
       "<IPython.core.display.Javascript object>"
      ]
     },
     "metadata": {},
     "output_type": "display_data"
    },
    {
     "name": "stdout",
     "output_type": "stream",
     "text": [
      "[ADDED]: 能者为师\n"
     ]
    },
    {
     "data": {
      "application/javascript": [
       "\n",
       "        if (window._pyforest_update_imports_cell) { window._pyforest_update_imports_cell('import numpy as np'); }\n",
       "    "
      ],
      "text/plain": [
       "<IPython.core.display.Javascript object>"
      ]
     },
     "metadata": {},
     "output_type": "display_data"
    },
    {
     "data": {
      "application/javascript": [
       "\n",
       "        if (window._pyforest_update_imports_cell) { window._pyforest_update_imports_cell('import numpy as np'); }\n",
       "    "
      ],
      "text/plain": [
       "<IPython.core.display.Javascript object>"
      ]
     },
     "metadata": {},
     "output_type": "display_data"
    },
    {
     "name": "stdout",
     "output_type": "stream",
     "text": [
      "[ADDED]: 诗以言志\n"
     ]
    },
    {
     "data": {
      "application/javascript": [
       "\n",
       "        if (window._pyforest_update_imports_cell) { window._pyforest_update_imports_cell('import numpy as np'); }\n",
       "    "
      ],
      "text/plain": [
       "<IPython.core.display.Javascript object>"
      ]
     },
     "metadata": {},
     "output_type": "display_data"
    },
    {
     "data": {
      "application/javascript": [
       "\n",
       "        if (window._pyforest_update_imports_cell) { window._pyforest_update_imports_cell('import numpy as np'); }\n",
       "    "
      ],
      "text/plain": [
       "<IPython.core.display.Javascript object>"
      ]
     },
     "metadata": {},
     "output_type": "display_data"
    },
    {
     "name": "stdout",
     "output_type": "stream",
     "text": [
      "[ADDED]: 彘肩斗酒\n"
     ]
    },
    {
     "data": {
      "application/javascript": [
       "\n",
       "        if (window._pyforest_update_imports_cell) { window._pyforest_update_imports_cell('import numpy as np'); }\n",
       "    "
      ],
      "text/plain": [
       "<IPython.core.display.Javascript object>"
      ]
     },
     "metadata": {},
     "output_type": "display_data"
    },
    {
     "data": {
      "application/javascript": [
       "\n",
       "        if (window._pyforest_update_imports_cell) { window._pyforest_update_imports_cell('import numpy as np'); }\n",
       "    "
      ],
      "text/plain": [
       "<IPython.core.display.Javascript object>"
      ]
     },
     "metadata": {},
     "output_type": "display_data"
    },
    {
     "name": "stdout",
     "output_type": "stream",
     "text": [
      "[ADDED]: 九流三教\n"
     ]
    },
    {
     "data": {
      "application/javascript": [
       "\n",
       "        if (window._pyforest_update_imports_cell) { window._pyforest_update_imports_cell('import numpy as np'); }\n",
       "    "
      ],
      "text/plain": [
       "<IPython.core.display.Javascript object>"
      ]
     },
     "metadata": {},
     "output_type": "display_data"
    },
    {
     "data": {
      "application/javascript": [
       "\n",
       "        if (window._pyforest_update_imports_cell) { window._pyforest_update_imports_cell('import numpy as np'); }\n",
       "    "
      ],
      "text/plain": [
       "<IPython.core.display.Javascript object>"
      ]
     },
     "metadata": {},
     "output_type": "display_data"
    },
    {
     "name": "stdout",
     "output_type": "stream",
     "text": [
      "[ADDED]: 较德焯勤\n"
     ]
    },
    {
     "data": {
      "application/javascript": [
       "\n",
       "        if (window._pyforest_update_imports_cell) { window._pyforest_update_imports_cell('import numpy as np'); }\n",
       "    "
      ],
      "text/plain": [
       "<IPython.core.display.Javascript object>"
      ]
     },
     "metadata": {},
     "output_type": "display_data"
    },
    {
     "data": {
      "application/javascript": [
       "\n",
       "        if (window._pyforest_update_imports_cell) { window._pyforest_update_imports_cell('import numpy as np'); }\n",
       "    "
      ],
      "text/plain": [
       "<IPython.core.display.Javascript object>"
      ]
     },
     "metadata": {},
     "output_type": "display_data"
    },
    {
     "name": "stdout",
     "output_type": "stream",
     "text": [
      "[ADDED]: 琴瑟失调\n"
     ]
    },
    {
     "data": {
      "application/javascript": [
       "\n",
       "        if (window._pyforest_update_imports_cell) { window._pyforest_update_imports_cell('import numpy as np'); }\n",
       "    "
      ],
      "text/plain": [
       "<IPython.core.display.Javascript object>"
      ]
     },
     "metadata": {},
     "output_type": "display_data"
    },
    {
     "data": {
      "application/javascript": [
       "\n",
       "        if (window._pyforest_update_imports_cell) { window._pyforest_update_imports_cell('import numpy as np'); }\n",
       "    "
      ],
      "text/plain": [
       "<IPython.core.display.Javascript object>"
      ]
     },
     "metadata": {},
     "output_type": "display_data"
    },
    {
     "name": "stdout",
     "output_type": "stream",
     "text": [
      "[ADDED]: 调舌弄唇\n"
     ]
    },
    {
     "data": {
      "application/javascript": [
       "\n",
       "        if (window._pyforest_update_imports_cell) { window._pyforest_update_imports_cell('import numpy as np'); }\n",
       "    "
      ],
      "text/plain": [
       "<IPython.core.display.Javascript object>"
      ]
     },
     "metadata": {},
     "output_type": "display_data"
    },
    {
     "data": {
      "application/javascript": [
       "\n",
       "        if (window._pyforest_update_imports_cell) { window._pyforest_update_imports_cell('import numpy as np'); }\n",
       "    "
      ],
      "text/plain": [
       "<IPython.core.display.Javascript object>"
      ]
     },
     "metadata": {},
     "output_type": "display_data"
    },
    {
     "name": "stdout",
     "output_type": "stream",
     "text": [
      "[ADDED]: 唇齿相依\n"
     ]
    },
    {
     "data": {
      "application/javascript": [
       "\n",
       "        if (window._pyforest_update_imports_cell) { window._pyforest_update_imports_cell('import numpy as np'); }\n",
       "    "
      ],
      "text/plain": [
       "<IPython.core.display.Javascript object>"
      ]
     },
     "metadata": {},
     "output_type": "display_data"
    },
    {
     "data": {
      "application/javascript": [
       "\n",
       "        if (window._pyforest_update_imports_cell) { window._pyforest_update_imports_cell('import numpy as np'); }\n",
       "    "
      ],
      "text/plain": [
       "<IPython.core.display.Javascript object>"
      ]
     },
     "metadata": {},
     "output_type": "display_data"
    },
    {
     "name": "stdout",
     "output_type": "stream",
     "text": [
      "[ADDED]: 一献三酬\n"
     ]
    },
    {
     "data": {
      "application/javascript": [
       "\n",
       "        if (window._pyforest_update_imports_cell) { window._pyforest_update_imports_cell('import numpy as np'); }\n",
       "    "
      ],
      "text/plain": [
       "<IPython.core.display.Javascript object>"
      ]
     },
     "metadata": {},
     "output_type": "display_data"
    },
    {
     "data": {
      "application/javascript": [
       "\n",
       "        if (window._pyforest_update_imports_cell) { window._pyforest_update_imports_cell('import numpy as np'); }\n",
       "    "
      ],
      "text/plain": [
       "<IPython.core.display.Javascript object>"
      ]
     },
     "metadata": {},
     "output_type": "display_data"
    },
    {
     "name": "stdout",
     "output_type": "stream",
     "text": [
      "[ADDED]: 愁红怨绿\n"
     ]
    },
    {
     "data": {
      "application/javascript": [
       "\n",
       "        if (window._pyforest_update_imports_cell) { window._pyforest_update_imports_cell('import numpy as np'); }\n",
       "    "
      ],
      "text/plain": [
       "<IPython.core.display.Javascript object>"
      ]
     },
     "metadata": {},
     "output_type": "display_data"
    },
    {
     "data": {
      "application/javascript": [
       "\n",
       "        if (window._pyforest_update_imports_cell) { window._pyforest_update_imports_cell('import numpy as np'); }\n",
       "    "
      ],
      "text/plain": [
       "<IPython.core.display.Javascript object>"
      ]
     },
     "metadata": {},
     "output_type": "display_data"
    },
    {
     "name": "stdout",
     "output_type": "stream",
     "text": [
      "[ADDED]: 虑周藻密\n"
     ]
    },
    {
     "data": {
      "application/javascript": [
       "\n",
       "        if (window._pyforest_update_imports_cell) { window._pyforest_update_imports_cell('import numpy as np'); }\n",
       "    "
      ],
      "text/plain": [
       "<IPython.core.display.Javascript object>"
      ]
     },
     "metadata": {},
     "output_type": "display_data"
    },
    {
     "data": {
      "application/javascript": [
       "\n",
       "        if (window._pyforest_update_imports_cell) { window._pyforest_update_imports_cell('import numpy as np'); }\n",
       "    "
      ],
      "text/plain": [
       "<IPython.core.display.Javascript object>"
      ]
     },
     "metadata": {},
     "output_type": "display_data"
    },
    {
     "name": "stdout",
     "output_type": "stream",
     "text": [
      "[ADDED]: 密云不雨\n"
     ]
    },
    {
     "data": {
      "application/javascript": [
       "\n",
       "        if (window._pyforest_update_imports_cell) { window._pyforest_update_imports_cell('import numpy as np'); }\n",
       "    "
      ],
      "text/plain": [
       "<IPython.core.display.Javascript object>"
      ]
     },
     "metadata": {},
     "output_type": "display_data"
    },
    {
     "data": {
      "application/javascript": [
       "\n",
       "        if (window._pyforest_update_imports_cell) { window._pyforest_update_imports_cell('import numpy as np'); }\n",
       "    "
      ],
      "text/plain": [
       "<IPython.core.display.Javascript object>"
      ]
     },
     "metadata": {},
     "output_type": "display_data"
    },
    {
     "name": "stdout",
     "output_type": "stream",
     "text": [
      "[ADDED]: 语重心沉\n"
     ]
    },
    {
     "data": {
      "application/javascript": [
       "\n",
       "        if (window._pyforest_update_imports_cell) { window._pyforest_update_imports_cell('import numpy as np'); }\n",
       "    "
      ],
      "text/plain": [
       "<IPython.core.display.Javascript object>"
      ]
     },
     "metadata": {},
     "output_type": "display_data"
    },
    {
     "data": {
      "application/javascript": [
       "\n",
       "        if (window._pyforest_update_imports_cell) { window._pyforest_update_imports_cell('import numpy as np'); }\n",
       "    "
      ],
      "text/plain": [
       "<IPython.core.display.Javascript object>"
      ]
     },
     "metadata": {},
     "output_type": "display_data"
    },
    {
     "name": "stdout",
     "output_type": "stream",
     "text": [
      "[ADDED]: 陈谷子烂芝麻\n"
     ]
    },
    {
     "data": {
      "application/javascript": [
       "\n",
       "        if (window._pyforest_update_imports_cell) { window._pyforest_update_imports_cell('import numpy as np'); }\n",
       "    "
      ],
      "text/plain": [
       "<IPython.core.display.Javascript object>"
      ]
     },
     "metadata": {},
     "output_type": "display_data"
    },
    {
     "data": {
      "application/javascript": [
       "\n",
       "        if (window._pyforest_update_imports_cell) { window._pyforest_update_imports_cell('import numpy as np'); }\n",
       "    "
      ],
      "text/plain": [
       "<IPython.core.display.Javascript object>"
      ]
     },
     "metadata": {},
     "output_type": "display_data"
    },
    {
     "name": "stdout",
     "output_type": "stream",
     "text": [
      "[ADDED]: 麻雀虽小，五脏俱全\n"
     ]
    },
    {
     "data": {
      "application/javascript": [
       "\n",
       "        if (window._pyforest_update_imports_cell) { window._pyforest_update_imports_cell('import numpy as np'); }\n",
       "    "
      ],
      "text/plain": [
       "<IPython.core.display.Javascript object>"
      ]
     },
     "metadata": {},
     "output_type": "display_data"
    },
    {
     "data": {
      "application/javascript": [
       "\n",
       "        if (window._pyforest_update_imports_cell) { window._pyforest_update_imports_cell('import numpy as np'); }\n",
       "    "
      ],
      "text/plain": [
       "<IPython.core.display.Javascript object>"
      ]
     },
     "metadata": {},
     "output_type": "display_data"
    },
    {
     "name": "stdout",
     "output_type": "stream",
     "text": [
      "[ADDED]: 权重秩卑\n"
     ]
    },
    {
     "data": {
      "application/javascript": [
       "\n",
       "        if (window._pyforest_update_imports_cell) { window._pyforest_update_imports_cell('import numpy as np'); }\n",
       "    "
      ],
      "text/plain": [
       "<IPython.core.display.Javascript object>"
      ]
     },
     "metadata": {},
     "output_type": "display_data"
    },
    {
     "data": {
      "application/javascript": [
       "\n",
       "        if (window._pyforest_update_imports_cell) { window._pyforest_update_imports_cell('import numpy as np'); }\n",
       "    "
      ],
      "text/plain": [
       "<IPython.core.display.Javascript object>"
      ]
     },
     "metadata": {},
     "output_type": "display_data"
    },
    {
     "name": "stdout",
     "output_type": "stream",
     "text": [
      "[ADDED]: 悲歌击筑\n"
     ]
    },
    {
     "data": {
      "application/javascript": [
       "\n",
       "        if (window._pyforest_update_imports_cell) { window._pyforest_update_imports_cell('import numpy as np'); }\n",
       "    "
      ],
      "text/plain": [
       "<IPython.core.display.Javascript object>"
      ]
     },
     "metadata": {},
     "output_type": "display_data"
    },
    {
     "data": {
      "application/javascript": [
       "\n",
       "        if (window._pyforest_update_imports_cell) { window._pyforest_update_imports_cell('import numpy as np'); }\n",
       "    "
      ],
      "text/plain": [
       "<IPython.core.display.Javascript object>"
      ]
     },
     "metadata": {},
     "output_type": "display_data"
    },
    {
     "name": "stdout",
     "output_type": "stream",
     "text": [
      "[ADDED]: 著述等身\n"
     ]
    },
    {
     "data": {
      "application/javascript": [
       "\n",
       "        if (window._pyforest_update_imports_cell) { window._pyforest_update_imports_cell('import numpy as np'); }\n",
       "    "
      ],
      "text/plain": [
       "<IPython.core.display.Javascript object>"
      ]
     },
     "metadata": {},
     "output_type": "display_data"
    },
    {
     "data": {
      "application/javascript": [
       "\n",
       "        if (window._pyforest_update_imports_cell) { window._pyforest_update_imports_cell('import numpy as np'); }\n",
       "    "
      ],
      "text/plain": [
       "<IPython.core.display.Javascript object>"
      ]
     },
     "metadata": {},
     "output_type": "display_data"
    },
    {
     "name": "stdout",
     "output_type": "stream",
     "text": [
      "[ADDED]: 深谷为陵\n"
     ]
    },
    {
     "data": {
      "application/javascript": [
       "\n",
       "        if (window._pyforest_update_imports_cell) { window._pyforest_update_imports_cell('import numpy as np'); }\n",
       "    "
      ],
      "text/plain": [
       "<IPython.core.display.Javascript object>"
      ]
     },
     "metadata": {},
     "output_type": "display_data"
    },
    {
     "data": {
      "application/javascript": [
       "\n",
       "        if (window._pyforest_update_imports_cell) { window._pyforest_update_imports_cell('import numpy as np'); }\n",
       "    "
      ],
      "text/plain": [
       "<IPython.core.display.Javascript object>"
      ]
     },
     "metadata": {},
     "output_type": "display_data"
    },
    {
     "name": "stdout",
     "output_type": "stream",
     "text": [
      "[ADDED]: 菱角磨作鸡头\n"
     ]
    },
    {
     "data": {
      "application/javascript": [
       "\n",
       "        if (window._pyforest_update_imports_cell) { window._pyforest_update_imports_cell('import numpy as np'); }\n",
       "    "
      ],
      "text/plain": [
       "<IPython.core.display.Javascript object>"
      ]
     },
     "metadata": {},
     "output_type": "display_data"
    },
    {
     "data": {
      "application/javascript": [
       "\n",
       "        if (window._pyforest_update_imports_cell) { window._pyforest_update_imports_cell('import numpy as np'); }\n",
       "    "
      ],
      "text/plain": [
       "<IPython.core.display.Javascript object>"
      ]
     },
     "metadata": {},
     "output_type": "display_data"
    },
    {
     "name": "stdout",
     "output_type": "stream",
     "text": [
      "[ADDED]: 投传而去\n"
     ]
    },
    {
     "data": {
      "application/javascript": [
       "\n",
       "        if (window._pyforest_update_imports_cell) { window._pyforest_update_imports_cell('import numpy as np'); }\n",
       "    "
      ],
      "text/plain": [
       "<IPython.core.display.Javascript object>"
      ]
     },
     "metadata": {},
     "output_type": "display_data"
    },
    {
     "data": {
      "application/javascript": [
       "\n",
       "        if (window._pyforest_update_imports_cell) { window._pyforest_update_imports_cell('import numpy as np'); }\n",
       "    "
      ],
      "text/plain": [
       "<IPython.core.display.Javascript object>"
      ]
     },
     "metadata": {},
     "output_type": "display_data"
    },
    {
     "name": "stdout",
     "output_type": "stream",
     "text": [
      "[ADDED]: 去危就安\n"
     ]
    },
    {
     "data": {
      "application/javascript": [
       "\n",
       "        if (window._pyforest_update_imports_cell) { window._pyforest_update_imports_cell('import numpy as np'); }\n",
       "    "
      ],
      "text/plain": [
       "<IPython.core.display.Javascript object>"
      ]
     },
     "metadata": {},
     "output_type": "display_data"
    },
    {
     "data": {
      "application/javascript": [
       "\n",
       "        if (window._pyforest_update_imports_cell) { window._pyforest_update_imports_cell('import numpy as np'); }\n",
       "    "
      ],
      "text/plain": [
       "<IPython.core.display.Javascript object>"
      ]
     },
     "metadata": {},
     "output_type": "display_data"
    },
    {
     "name": "stdout",
     "output_type": "stream",
     "text": [
      "[ADDED]: 安于故俗，溺于旧闻\n"
     ]
    },
    {
     "data": {
      "application/javascript": [
       "\n",
       "        if (window._pyforest_update_imports_cell) { window._pyforest_update_imports_cell('import numpy as np'); }\n",
       "    "
      ],
      "text/plain": [
       "<IPython.core.display.Javascript object>"
      ]
     },
     "metadata": {},
     "output_type": "display_data"
    },
    {
     "data": {
      "application/javascript": [
       "\n",
       "        if (window._pyforest_update_imports_cell) { window._pyforest_update_imports_cell('import numpy as np'); }\n",
       "    "
      ],
      "text/plain": [
       "<IPython.core.display.Javascript object>"
      ]
     },
     "metadata": {},
     "output_type": "display_data"
    },
    {
     "name": "stdout",
     "output_type": "stream",
     "text": [
      "[ADDED]: 文不对题\n"
     ]
    },
    {
     "data": {
      "application/javascript": [
       "\n",
       "        if (window._pyforest_update_imports_cell) { window._pyforest_update_imports_cell('import numpy as np'); }\n",
       "    "
      ],
      "text/plain": [
       "<IPython.core.display.Javascript object>"
      ]
     },
     "metadata": {},
     "output_type": "display_data"
    },
    {
     "data": {
      "application/javascript": [
       "\n",
       "        if (window._pyforest_update_imports_cell) { window._pyforest_update_imports_cell('import numpy as np'); }\n",
       "    "
      ],
      "text/plain": [
       "<IPython.core.display.Javascript object>"
      ]
     },
     "metadata": {},
     "output_type": "display_data"
    },
    {
     "name": "stdout",
     "output_type": "stream",
     "text": [
      "[ADDED]: 蹄间三寻\n"
     ]
    },
    {
     "data": {
      "application/javascript": [
       "\n",
       "        if (window._pyforest_update_imports_cell) { window._pyforest_update_imports_cell('import numpy as np'); }\n",
       "    "
      ],
      "text/plain": [
       "<IPython.core.display.Javascript object>"
      ]
     },
     "metadata": {},
     "output_type": "display_data"
    },
    {
     "data": {
      "application/javascript": [
       "\n",
       "        if (window._pyforest_update_imports_cell) { window._pyforest_update_imports_cell('import numpy as np'); }\n",
       "    "
      ],
      "text/plain": [
       "<IPython.core.display.Javascript object>"
      ]
     },
     "metadata": {},
     "output_type": "display_data"
    },
    {
     "name": "stdout",
     "output_type": "stream",
     "text": [
      "[ADDED]: 循名课实\n"
     ]
    },
    {
     "data": {
      "application/javascript": [
       "\n",
       "        if (window._pyforest_update_imports_cell) { window._pyforest_update_imports_cell('import numpy as np'); }\n",
       "    "
      ],
      "text/plain": [
       "<IPython.core.display.Javascript object>"
      ]
     },
     "metadata": {},
     "output_type": "display_data"
    },
    {
     "data": {
      "application/javascript": [
       "\n",
       "        if (window._pyforest_update_imports_cell) { window._pyforest_update_imports_cell('import numpy as np'); }\n",
       "    "
      ],
      "text/plain": [
       "<IPython.core.display.Javascript object>"
      ]
     },
     "metadata": {},
     "output_type": "display_data"
    },
    {
     "name": "stdout",
     "output_type": "stream",
     "text": [
      "[ADDED]: 十室九匮\n"
     ]
    },
    {
     "data": {
      "application/javascript": [
       "\n",
       "        if (window._pyforest_update_imports_cell) { window._pyforest_update_imports_cell('import numpy as np'); }\n",
       "    "
      ],
      "text/plain": [
       "<IPython.core.display.Javascript object>"
      ]
     },
     "metadata": {},
     "output_type": "display_data"
    },
    {
     "data": {
      "application/javascript": [
       "\n",
       "        if (window._pyforest_update_imports_cell) { window._pyforest_update_imports_cell('import numpy as np'); }\n",
       "    "
      ],
      "text/plain": [
       "<IPython.core.display.Javascript object>"
      ]
     },
     "metadata": {},
     "output_type": "display_data"
    },
    {
     "name": "stdout",
     "output_type": "stream",
     "text": [
      "[ADDED]: 愧悔无地\n"
     ]
    },
    {
     "data": {
      "application/javascript": [
       "\n",
       "        if (window._pyforest_update_imports_cell) { window._pyforest_update_imports_cell('import numpy as np'); }\n",
       "    "
      ],
      "text/plain": [
       "<IPython.core.display.Javascript object>"
      ]
     },
     "metadata": {},
     "output_type": "display_data"
    },
    {
     "data": {
      "application/javascript": [
       "\n",
       "        if (window._pyforest_update_imports_cell) { window._pyforest_update_imports_cell('import numpy as np'); }\n",
       "    "
      ],
      "text/plain": [
       "<IPython.core.display.Javascript object>"
      ]
     },
     "metadata": {},
     "output_type": "display_data"
    },
    {
     "name": "stdout",
     "output_type": "stream",
     "text": [
      "[ADDED]: 地狱变相\n"
     ]
    },
    {
     "data": {
      "application/javascript": [
       "\n",
       "        if (window._pyforest_update_imports_cell) { window._pyforest_update_imports_cell('import numpy as np'); }\n",
       "    "
      ],
      "text/plain": [
       "<IPython.core.display.Javascript object>"
      ]
     },
     "metadata": {},
     "output_type": "display_data"
    },
    {
     "data": {
      "application/javascript": [
       "\n",
       "        if (window._pyforest_update_imports_cell) { window._pyforest_update_imports_cell('import numpy as np'); }\n",
       "    "
      ],
      "text/plain": [
       "<IPython.core.display.Javascript object>"
      ]
     },
     "metadata": {},
     "output_type": "display_data"
    },
    {
     "name": "stdout",
     "output_type": "stream",
     "text": [
      "[ADDED]: 像心如意\n"
     ]
    },
    {
     "data": {
      "application/javascript": [
       "\n",
       "        if (window._pyforest_update_imports_cell) { window._pyforest_update_imports_cell('import numpy as np'); }\n",
       "    "
      ],
      "text/plain": [
       "<IPython.core.display.Javascript object>"
      ]
     },
     "metadata": {},
     "output_type": "display_data"
    },
    {
     "data": {
      "application/javascript": [
       "\n",
       "        if (window._pyforest_update_imports_cell) { window._pyforest_update_imports_cell('import numpy as np'); }\n",
       "    "
      ],
      "text/plain": [
       "<IPython.core.display.Javascript object>"
      ]
     },
     "metadata": {},
     "output_type": "display_data"
    },
    {
     "name": "stdout",
     "output_type": "stream",
     "text": [
      "[ADDED]: 逸群之才\n"
     ]
    },
    {
     "data": {
      "application/javascript": [
       "\n",
       "        if (window._pyforest_update_imports_cell) { window._pyforest_update_imports_cell('import numpy as np'); }\n",
       "    "
      ],
      "text/plain": [
       "<IPython.core.display.Javascript object>"
      ]
     },
     "metadata": {},
     "output_type": "display_data"
    },
    {
     "data": {
      "application/javascript": [
       "\n",
       "        if (window._pyforest_update_imports_cell) { window._pyforest_update_imports_cell('import numpy as np'); }\n",
       "    "
      ],
      "text/plain": [
       "<IPython.core.display.Javascript object>"
      ]
     },
     "metadata": {},
     "output_type": "display_data"
    },
    {
     "name": "stdout",
     "output_type": "stream",
     "text": [
      "[ADDED]: 才高意广\n"
     ]
    },
    {
     "data": {
      "application/javascript": [
       "\n",
       "        if (window._pyforest_update_imports_cell) { window._pyforest_update_imports_cell('import numpy as np'); }\n",
       "    "
      ],
      "text/plain": [
       "<IPython.core.display.Javascript object>"
      ]
     },
     "metadata": {},
     "output_type": "display_data"
    },
    {
     "data": {
      "application/javascript": [
       "\n",
       "        if (window._pyforest_update_imports_cell) { window._pyforest_update_imports_cell('import numpy as np'); }\n",
       "    "
      ],
      "text/plain": [
       "<IPython.core.display.Javascript object>"
      ]
     },
     "metadata": {},
     "output_type": "display_data"
    },
    {
     "name": "stdout",
     "output_type": "stream",
     "text": [
      "[ADDED]: 广种薄收\n"
     ]
    },
    {
     "data": {
      "application/javascript": [
       "\n",
       "        if (window._pyforest_update_imports_cell) { window._pyforest_update_imports_cell('import numpy as np'); }\n",
       "    "
      ],
      "text/plain": [
       "<IPython.core.display.Javascript object>"
      ]
     },
     "metadata": {},
     "output_type": "display_data"
    },
    {
     "data": {
      "application/javascript": [
       "\n",
       "        if (window._pyforest_update_imports_cell) { window._pyforest_update_imports_cell('import numpy as np'); }\n",
       "    "
      ],
      "text/plain": [
       "<IPython.core.display.Javascript object>"
      ]
     },
     "metadata": {},
     "output_type": "display_data"
    },
    {
     "name": "stdout",
     "output_type": "stream",
     "text": [
      "[ADDED]: 收园结果\n"
     ]
    },
    {
     "data": {
      "application/javascript": [
       "\n",
       "        if (window._pyforest_update_imports_cell) { window._pyforest_update_imports_cell('import numpy as np'); }\n",
       "    "
      ],
      "text/plain": [
       "<IPython.core.display.Javascript object>"
      ]
     },
     "metadata": {},
     "output_type": "display_data"
    },
    {
     "data": {
      "application/javascript": [
       "\n",
       "        if (window._pyforest_update_imports_cell) { window._pyforest_update_imports_cell('import numpy as np'); }\n",
       "    "
      ],
      "text/plain": [
       "<IPython.core.display.Javascript object>"
      ]
     },
     "metadata": {},
     "output_type": "display_data"
    },
    {
     "name": "stdout",
     "output_type": "stream",
     "text": [
      "[ADDED]: 果于自信\n"
     ]
    },
    {
     "data": {
      "application/javascript": [
       "\n",
       "        if (window._pyforest_update_imports_cell) { window._pyforest_update_imports_cell('import numpy as np'); }\n",
       "    "
      ],
      "text/plain": [
       "<IPython.core.display.Javascript object>"
      ]
     },
     "metadata": {},
     "output_type": "display_data"
    },
    {
     "data": {
      "application/javascript": [
       "\n",
       "        if (window._pyforest_update_imports_cell) { window._pyforest_update_imports_cell('import numpy as np'); }\n",
       "    "
      ],
      "text/plain": [
       "<IPython.core.display.Javascript object>"
      ]
     },
     "metadata": {},
     "output_type": "display_data"
    },
    {
     "name": "stdout",
     "output_type": "stream",
     "text": [
      "[ADDED]: 信而有征\n"
     ]
    },
    {
     "data": {
      "application/javascript": [
       "\n",
       "        if (window._pyforest_update_imports_cell) { window._pyforest_update_imports_cell('import numpy as np'); }\n",
       "    "
      ],
      "text/plain": [
       "<IPython.core.display.Javascript object>"
      ]
     },
     "metadata": {},
     "output_type": "display_data"
    },
    {
     "data": {
      "application/javascript": [
       "\n",
       "        if (window._pyforest_update_imports_cell) { window._pyforest_update_imports_cell('import numpy as np'); }\n",
       "    "
      ],
      "text/plain": [
       "<IPython.core.display.Javascript object>"
      ]
     },
     "metadata": {},
     "output_type": "display_data"
    },
    {
     "name": "stdout",
     "output_type": "stream",
     "text": [
      "[ADDED]: 铮铮佼佼\n"
     ]
    },
    {
     "data": {
      "application/javascript": [
       "\n",
       "        if (window._pyforest_update_imports_cell) { window._pyforest_update_imports_cell('import numpy as np'); }\n",
       "    "
      ],
      "text/plain": [
       "<IPython.core.display.Javascript object>"
      ]
     },
     "metadata": {},
     "output_type": "display_data"
    },
    {
     "data": {
      "application/javascript": [
       "\n",
       "        if (window._pyforest_update_imports_cell) { window._pyforest_update_imports_cell('import numpy as np'); }\n",
       "    "
      ],
      "text/plain": [
       "<IPython.core.display.Javascript object>"
      ]
     },
     "metadata": {},
     "output_type": "display_data"
    },
    {
     "name": "stdout",
     "output_type": "stream",
     "text": [
      "[ADDED]: 矫世变俗\n"
     ]
    },
    {
     "data": {
      "application/javascript": [
       "\n",
       "        if (window._pyforest_update_imports_cell) { window._pyforest_update_imports_cell('import numpy as np'); }\n",
       "    "
      ],
      "text/plain": [
       "<IPython.core.display.Javascript object>"
      ]
     },
     "metadata": {},
     "output_type": "display_data"
    },
    {
     "data": {
      "application/javascript": [
       "\n",
       "        if (window._pyforest_update_imports_cell) { window._pyforest_update_imports_cell('import numpy as np'); }\n",
       "    "
      ],
      "text/plain": [
       "<IPython.core.display.Javascript object>"
      ]
     },
     "metadata": {},
     "output_type": "display_data"
    },
    {
     "name": "stdout",
     "output_type": "stream",
     "text": [
      "[ADDED]: 俗不可耐\n"
     ]
    },
    {
     "data": {
      "application/javascript": [
       "\n",
       "        if (window._pyforest_update_imports_cell) { window._pyforest_update_imports_cell('import numpy as np'); }\n",
       "    "
      ],
      "text/plain": [
       "<IPython.core.display.Javascript object>"
      ]
     },
     "metadata": {},
     "output_type": "display_data"
    },
    {
     "data": {
      "application/javascript": [
       "\n",
       "        if (window._pyforest_update_imports_cell) { window._pyforest_update_imports_cell('import numpy as np'); }\n",
       "    "
      ],
      "text/plain": [
       "<IPython.core.display.Javascript object>"
      ]
     },
     "metadata": {},
     "output_type": "display_data"
    },
    {
     "name": "stdout",
     "output_type": "stream",
     "text": [
      "[ADDED]: 耐人寻味\n"
     ]
    },
    {
     "data": {
      "application/javascript": [
       "\n",
       "        if (window._pyforest_update_imports_cell) { window._pyforest_update_imports_cell('import numpy as np'); }\n",
       "    "
      ],
      "text/plain": [
       "<IPython.core.display.Javascript object>"
      ]
     },
     "metadata": {},
     "output_type": "display_data"
    },
    {
     "data": {
      "application/javascript": [
       "\n",
       "        if (window._pyforest_update_imports_cell) { window._pyforest_update_imports_cell('import numpy as np'); }\n",
       "    "
      ],
      "text/plain": [
       "<IPython.core.display.Javascript object>"
      ]
     },
     "metadata": {},
     "output_type": "display_data"
    },
    {
     "name": "stdout",
     "output_type": "stream",
     "text": [
      "[ADDED]: 未足轻重\n"
     ]
    },
    {
     "data": {
      "application/javascript": [
       "\n",
       "        if (window._pyforest_update_imports_cell) { window._pyforest_update_imports_cell('import numpy as np'); }\n",
       "    "
      ],
      "text/plain": [
       "<IPython.core.display.Javascript object>"
      ]
     },
     "metadata": {},
     "output_type": "display_data"
    },
    {
     "data": {
      "application/javascript": [
       "\n",
       "        if (window._pyforest_update_imports_cell) { window._pyforest_update_imports_cell('import numpy as np'); }\n",
       "    "
      ],
      "text/plain": [
       "<IPython.core.display.Javascript object>"
      ]
     },
     "metadata": {},
     "output_type": "display_data"
    },
    {
     "name": "stdout",
     "output_type": "stream",
     "text": [
      "[ADDED]: 重赏之下，必有勇夫\n"
     ]
    },
    {
     "data": {
      "application/javascript": [
       "\n",
       "        if (window._pyforest_update_imports_cell) { window._pyforest_update_imports_cell('import numpy as np'); }\n",
       "    "
      ],
      "text/plain": [
       "<IPython.core.display.Javascript object>"
      ]
     },
     "metadata": {},
     "output_type": "display_data"
    },
    {
     "data": {
      "application/javascript": [
       "\n",
       "        if (window._pyforest_update_imports_cell) { window._pyforest_update_imports_cell('import numpy as np'); }\n",
       "    "
      ],
      "text/plain": [
       "<IPython.core.display.Javascript object>"
      ]
     },
     "metadata": {},
     "output_type": "display_data"
    },
    {
     "name": "stdout",
     "output_type": "stream",
     "text": [
      "[ADDED]: 肤如凝脂\n"
     ]
    },
    {
     "data": {
      "application/javascript": [
       "\n",
       "        if (window._pyforest_update_imports_cell) { window._pyforest_update_imports_cell('import numpy as np'); }\n",
       "    "
      ],
      "text/plain": [
       "<IPython.core.display.Javascript object>"
      ]
     },
     "metadata": {},
     "output_type": "display_data"
    },
    {
     "data": {
      "application/javascript": [
       "\n",
       "        if (window._pyforest_update_imports_cell) { window._pyforest_update_imports_cell('import numpy as np'); }\n",
       "    "
      ],
      "text/plain": [
       "<IPython.core.display.Javascript object>"
      ]
     },
     "metadata": {},
     "output_type": "display_data"
    },
    {
     "name": "stdout",
     "output_type": "stream",
     "text": [
      "[ADDED]: 之死靡它\n"
     ]
    },
    {
     "data": {
      "application/javascript": [
       "\n",
       "        if (window._pyforest_update_imports_cell) { window._pyforest_update_imports_cell('import numpy as np'); }\n",
       "    "
      ],
      "text/plain": [
       "<IPython.core.display.Javascript object>"
      ]
     },
     "metadata": {},
     "output_type": "display_data"
    },
    {
     "data": {
      "application/javascript": [
       "\n",
       "        if (window._pyforest_update_imports_cell) { window._pyforest_update_imports_cell('import numpy as np'); }\n",
       "    "
      ],
      "text/plain": [
       "<IPython.core.display.Javascript object>"
      ]
     },
     "metadata": {},
     "output_type": "display_data"
    },
    {
     "name": "stdout",
     "output_type": "stream",
     "text": [
      "[ADDED]: 他山之石，可以攻玉\n"
     ]
    },
    {
     "data": {
      "application/javascript": [
       "\n",
       "        if (window._pyforest_update_imports_cell) { window._pyforest_update_imports_cell('import numpy as np'); }\n",
       "    "
      ],
      "text/plain": [
       "<IPython.core.display.Javascript object>"
      ]
     },
     "metadata": {},
     "output_type": "display_data"
    },
    {
     "data": {
      "application/javascript": [
       "\n",
       "        if (window._pyforest_update_imports_cell) { window._pyforest_update_imports_cell('import numpy as np'); }\n",
       "    "
      ],
      "text/plain": [
       "<IPython.core.display.Javascript object>"
      ]
     },
     "metadata": {},
     "output_type": "display_data"
    },
    {
     "name": "stdout",
     "output_type": "stream",
     "text": [
      "[ADDED]: 鬻儿卖女\n"
     ]
    },
    {
     "data": {
      "application/javascript": [
       "\n",
       "        if (window._pyforest_update_imports_cell) { window._pyforest_update_imports_cell('import numpy as np'); }\n",
       "    "
      ],
      "text/plain": [
       "<IPython.core.display.Javascript object>"
      ]
     },
     "metadata": {},
     "output_type": "display_data"
    },
    {
     "data": {
      "application/javascript": [
       "\n",
       "        if (window._pyforest_update_imports_cell) { window._pyforest_update_imports_cell('import numpy as np'); }\n",
       "    "
      ],
      "text/plain": [
       "<IPython.core.display.Javascript object>"
      ]
     },
     "metadata": {},
     "output_type": "display_data"
    },
    {
     "name": "stdout",
     "output_type": "stream",
     "text": [
      "[ADDED]: 女长须嫁\n"
     ]
    },
    {
     "data": {
      "application/javascript": [
       "\n",
       "        if (window._pyforest_update_imports_cell) { window._pyforest_update_imports_cell('import numpy as np'); }\n",
       "    "
      ],
      "text/plain": [
       "<IPython.core.display.Javascript object>"
      ]
     },
     "metadata": {},
     "output_type": "display_data"
    },
    {
     "data": {
      "application/javascript": [
       "\n",
       "        if (window._pyforest_update_imports_cell) { window._pyforest_update_imports_cell('import numpy as np'); }\n",
       "    "
      ],
      "text/plain": [
       "<IPython.core.display.Javascript object>"
      ]
     },
     "metadata": {},
     "output_type": "display_data"
    },
    {
     "name": "stdout",
     "output_type": "stream",
     "text": [
      "[ADDED]: 价等连城\n"
     ]
    },
    {
     "data": {
      "application/javascript": [
       "\n",
       "        if (window._pyforest_update_imports_cell) { window._pyforest_update_imports_cell('import numpy as np'); }\n",
       "    "
      ],
      "text/plain": [
       "<IPython.core.display.Javascript object>"
      ]
     },
     "metadata": {},
     "output_type": "display_data"
    },
    {
     "data": {
      "application/javascript": [
       "\n",
       "        if (window._pyforest_update_imports_cell) { window._pyforest_update_imports_cell('import numpy as np'); }\n",
       "    "
      ],
      "text/plain": [
       "<IPython.core.display.Javascript object>"
      ]
     },
     "metadata": {},
     "output_type": "display_data"
    },
    {
     "name": "stdout",
     "output_type": "stream",
     "text": [
      "[ADDED]: 惩一儆百\n"
     ]
    },
    {
     "data": {
      "text/plain": [
       "['进贤任能',\n",
       " '能者为师',\n",
       " '诗以言志',\n",
       " '彘肩斗酒',\n",
       " '九流三教',\n",
       " '较德焯勤',\n",
       " '琴瑟失调',\n",
       " '调舌弄唇',\n",
       " '唇齿相依',\n",
       " '一献三酬',\n",
       " '愁红怨绿',\n",
       " '虑周藻密',\n",
       " '密云不雨',\n",
       " '语重心沉',\n",
       " '陈谷子烂芝麻',\n",
       " '麻雀虽小，五脏俱全',\n",
       " '权重秩卑',\n",
       " '悲歌击筑',\n",
       " '著述等身',\n",
       " '深谷为陵',\n",
       " '菱角磨作鸡头',\n",
       " '投传而去',\n",
       " '去危就安',\n",
       " '安于故俗，溺于旧闻',\n",
       " '文不对题',\n",
       " '蹄间三寻',\n",
       " '循名课实',\n",
       " '十室九匮',\n",
       " '愧悔无地',\n",
       " '地狱变相',\n",
       " '像心如意',\n",
       " '逸群之才',\n",
       " '才高意广',\n",
       " '广种薄收',\n",
       " '收园结果',\n",
       " '果于自信',\n",
       " '信而有征',\n",
       " '铮铮佼佼',\n",
       " '矫世变俗',\n",
       " '俗不可耐',\n",
       " '耐人寻味',\n",
       " '未足轻重',\n",
       " '重赏之下，必有勇夫',\n",
       " '肤如凝脂',\n",
       " '之死靡它',\n",
       " '他山之石，可以攻玉',\n",
       " '鬻儿卖女',\n",
       " '女长须嫁',\n",
       " '价等连城',\n",
       " '惩一儆百']"
      ]
     },
     "execution_count": 234,
     "metadata": {},
     "output_type": "execute_result"
    }
   ],
   "source": [
    "def get_seq(word, max_len=5, verbose=False):\n",
    "    word_lst = []\n",
    "    for i in range(max_len):\n",
    "        word = get_random_one(word)\n",
    "        word_lst.append(word)\n",
    "        if verbose:\n",
    "            print(f\"[ADDED]: {word}\")\n",
    "    return word_lst\n",
    "\n",
    "while True:\n",
    "    try:\n",
    "        word_seq = get_seq(\"山穷水尽\", max_len=50, verbose=True)\n",
    "        break\n",
    "    except Exception as e:\n",
    "        print(f\"[ERROR]: {e}\")\n",
    "word_seq"
   ]
  }
 ],
 "metadata": {
  "kernelspec": {
   "display_name": "Python 3",
   "language": "python",
   "name": "python3"
  },
  "language_info": {
   "codemirror_mode": {
    "name": "ipython",
    "version": 3
   },
   "file_extension": ".py",
   "mimetype": "text/x-python",
   "name": "python",
   "nbconvert_exporter": "python",
   "pygments_lexer": "ipython3",
   "version": "3.7.3"
  }
 },
 "nbformat": 4,
 "nbformat_minor": 2
}
